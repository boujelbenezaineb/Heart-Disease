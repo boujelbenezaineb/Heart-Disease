{
  "nbformat": 4,
  "nbformat_minor": 0,
  "metadata": {
    "colab": {
      "name": "HEART.ipynb",
      "provenance": []
    },
    "kernelspec": {
      "name": "python3",
      "display_name": "Python 3"
    },
    "language_info": {
      "name": "python"
    }
  },
  "cells": [
    {
      "cell_type": "markdown",
      "metadata": {
        "id": "g012zx_xymt3"
      },
      "source": [
        "**Importation des Bibliothèques**"
      ]
    },
    {
      "cell_type": "code",
      "metadata": {
        "id": "9KyT5-tcyQkq"
      },
      "source": [
        "import pandas as pd\n",
        "import numpy as np\n",
        "import matplotlib.pyplot as plt\n",
        "from sklearn.model_selection import train_test_split\n",
        "from sklearn.metrics import mean_squared_error, r2_score\n",
        "from sklearn import preprocessing\n",
        "from sklearn.metrics import confusion_matrix\n",
        "from sklearn import model_selection\n",
        "from sklearn.linear_model import LogisticRegression\n",
        "from sklearn.metrics import roc_auc_score\n",
        "from sklearn.metrics import roc_curve"
      ],
      "execution_count": 102,
      "outputs": []
    },
    {
      "cell_type": "markdown",
      "metadata": {
        "id": "FUffdtyT3hzx"
      },
      "source": [
        "**Importation du Dataset**"
      ]
    },
    {
      "cell_type": "code",
      "metadata": {
        "id": "gGSZt6vKy7hJ"
      },
      "source": [
        "data= pd.read_csv('heart.csv')"
      ],
      "execution_count": 103,
      "outputs": []
    },
    {
      "cell_type": "code",
      "metadata": {
        "colab": {
          "base_uri": "https://localhost:8080/"
        },
        "id": "TnsOQUbl0mov",
        "outputId": "cb71a838-f594-475c-dc12-6b9286cac9dc"
      },
      "source": [
        "print(data)"
      ],
      "execution_count": 104,
      "outputs": [
        {
          "output_type": "stream",
          "name": "stdout",
          "text": [
            "     age  sex  cp  trestbps  chol  fbs  ...  exang  oldpeak  slope  ca  thal  target\n",
            "0     63    1   3       145   233    1  ...      0      2.3      0   0     1       1\n",
            "1     37    1   2       130   250    0  ...      0      3.5      0   0     2       1\n",
            "2     41    0   1       130   204    0  ...      0      1.4      2   0     2       1\n",
            "3     56    1   1       120   236    0  ...      0      0.8      2   0     2       1\n",
            "4     57    0   0       120   354    0  ...      1      0.6      2   0     2       1\n",
            "..   ...  ...  ..       ...   ...  ...  ...    ...      ...    ...  ..   ...     ...\n",
            "298   57    0   0       140   241    0  ...      1      0.2      1   0     3       0\n",
            "299   45    1   3       110   264    0  ...      0      1.2      1   0     3       0\n",
            "300   68    1   0       144   193    1  ...      0      3.4      1   2     3       0\n",
            "301   57    1   0       130   131    0  ...      1      1.2      1   1     3       0\n",
            "302   57    0   1       130   236    0  ...      0      0.0      1   1     2       0\n",
            "\n",
            "[303 rows x 14 columns]\n"
          ]
        }
      ]
    },
    {
      "cell_type": "code",
      "metadata": {
        "id": "_k8DGXxV1bE-"
      },
      "source": [
        "C1=['age']"
      ],
      "execution_count": 105,
      "outputs": []
    },
    {
      "cell_type": "code",
      "metadata": {
        "id": "jIfoFQyw1bMZ"
      },
      "source": [
        "moy=np.mean(data[C1])"
      ],
      "execution_count": 106,
      "outputs": []
    },
    {
      "cell_type": "code",
      "metadata": {
        "colab": {
          "base_uri": "https://localhost:8080/"
        },
        "id": "pXiMQSn71bdC",
        "outputId": "6fcc0eed-edcb-42b9-c448-62d6ee3bf0c5"
      },
      "source": [
        "print(moy)"
      ],
      "execution_count": 107,
      "outputs": [
        {
          "output_type": "stream",
          "name": "stdout",
          "text": [
            "age    54.366337\n",
            "dtype: float64\n"
          ]
        }
      ]
    },
    {
      "cell_type": "markdown",
      "metadata": {
        "id": "72OZegNP4iFw"
      },
      "source": [
        "**Dataset Cleaning**"
      ]
    },
    {
      "cell_type": "code",
      "metadata": {
        "colab": {
          "base_uri": "https://localhost:8080/"
        },
        "id": "Mt2jODYE2jH5",
        "outputId": "c119801f-241f-4a8a-9a43-f9e8e1b45644"
      },
      "source": [
        "data.isnull().sum()"
      ],
      "execution_count": 108,
      "outputs": [
        {
          "output_type": "execute_result",
          "data": {
            "text/plain": [
              "age         0\n",
              "sex         0\n",
              "cp          0\n",
              "trestbps    0\n",
              "chol        0\n",
              "fbs         0\n",
              "restecg     0\n",
              "thalach     0\n",
              "exang       0\n",
              "oldpeak     0\n",
              "slope       0\n",
              "ca          0\n",
              "thal        0\n",
              "target      0\n",
              "dtype: int64"
            ]
          },
          "metadata": {},
          "execution_count": 108
        }
      ]
    },
    {
      "cell_type": "markdown",
      "metadata": {
        "id": "0BX9oEU34mVz"
      },
      "source": [
        "**Dataset visualization**"
      ]
    },
    {
      "cell_type": "code",
      "metadata": {
        "colab": {
          "base_uri": "https://localhost:8080/",
          "height": 312
        },
        "id": "KNX2BrTk41LU",
        "outputId": "e7448647-cf46-4a66-8fef-3c0259ae870d"
      },
      "source": [
        "data.plot.scatter(x='age', y='trestbps', title='Scatter Plot:Age/Trestbps')"
      ],
      "execution_count": 109,
      "outputs": [
        {
          "output_type": "execute_result",
          "data": {
            "text/plain": [
              "<matplotlib.axes._subplots.AxesSubplot at 0x7f7ffe3cc8d0>"
            ]
          },
          "metadata": {},
          "execution_count": 109
        },
        {
          "output_type": "display_data",
          "data": {
            "image/png": "[encoded data removed]",
            "text/plain": [
              "<Figure size 432x288 with 1 Axes>"
            ]
          },
          "metadata": {
            "needs_background": "light"
          }
        }
      ]
    },
    {
      "cell_type": "code",
      "metadata": {
        "colab": {
          "base_uri": "https://localhost:8080/",
          "height": 298
        },
        "id": "WSrWZGyB41dR",
        "outputId": "0f22e9c3-d127-44a5-c5c7-169618b14bc1"
      },
      "source": [
        "data.drop(['target','thal','sex','ca','slope'], axis=1).plot.line(title='Line Chart: Heart Dataset')"
      ],
      "execution_count": 110,
      "outputs": [
        {
          "output_type": "execute_result",
          "data": {
            "text/plain": [
              "<matplotlib.axes._subplots.AxesSubplot at 0x7f7ffddd9f90>"
            ]
          },
          "metadata": {},
          "execution_count": 110
        },
        {
          "output_type": "display_data",
          "data": {
            "image/png": "[encoded data removed]",
            "text/plain": [
              "<Figure size 432x288 with 1 Axes>"
            ]
          },
          "metadata": {
            "needs_background": "light"
          }
        }
      ]
    },
    {
      "cell_type": "code",
      "metadata": {
        "colab": {
          "base_uri": "https://localhost:8080/",
          "height": 530
        },
        "id": "08-ouiJf41j_",
        "outputId": "de47402a-7099-46e5-eca7-235f28883843"
      },
      "source": [
        "# create a figure and axis \n",
        "fig, ax = plt.subplots(figsize=(15, 8)) \n",
        "# count the occurrence of each class \n",
        "d = data['age'].value_counts() \n",
        "# get x and y data \n",
        "age = d.index \n",
        "chol = d.values \n",
        "# create bar chart \n",
        "ax.bar(age, chol) \n",
        "# set title and labels \n",
        "ax.set_title('Histogram:Age/Chol') \n",
        "ax.set_xlabel('age') \n",
        "ax.set_ylabel('chol')"
      ],
      "execution_count": 111,
      "outputs": [
        {
          "output_type": "execute_result",
          "data": {
            "text/plain": [
              "Text(0, 0.5, 'chol')"
            ]
          },
          "metadata": {},
          "execution_count": 111
        },
        {
          "output_type": "display_data",
          "data": {
            "image/png": "[encoded data removed]",
            "text/plain": [
              "<Figure size 1080x576 with 1 Axes>"
            ]
          },
          "metadata": {
            "needs_background": "light"
          }
        }
      ]
    },
    {
      "cell_type": "markdown",
      "metadata": {
        "id": "kuKV0fM-DjmQ"
      },
      "source": [
        "**Building a  machine learning model**"
      ]
    },
    {
      "cell_type": "markdown",
      "metadata": {
        "id": "kVzUC4ldHIT_"
      },
      "source": [
        "Data splitting"
      ]
    },
    {
      "cell_type": "code",
      "metadata": {
        "id": "37UXr1eV41o8"
      },
      "source": [
        "X = data.drop(['target'], axis=1)\n",
        "y = data['target']\n",
        "y = data.target\n",
        "X_train, X_test, y_train, y_test = train_test_split(\n",
        "    X, y, test_size=0.2, random_state=42)"
      ],
      "execution_count": 112,
      "outputs": []
    },
    {
      "cell_type": "markdown",
      "metadata": {
        "id": "qw6jsNWHHKDp"
      },
      "source": [
        "Logistic Regression"
      ]
    },
    {
      "cell_type": "markdown",
      "metadata": {
        "id": "srbjsc1UHUT2"
      },
      "source": [
        "*Model building*"
      ]
    },
    {
      "cell_type": "code",
      "metadata": {
        "colab": {
          "base_uri": "https://localhost:8080/"
        },
        "id": "bygKoq4IHO88",
        "outputId": "f9304bf9-b358-4eec-ed74-cee14b533d19"
      },
      "source": [
        "lr = LogisticRegression()\n",
        "lr.fit(X_train, y_train)"
      ],
      "execution_count": 113,
      "outputs": [
        {
          "output_type": "stream",
          "name": "stderr",
          "text": [
            "/usr/local/lib/python3.7/dist-packages/sklearn/linear_model/_logistic.py:940: ConvergenceWarning: lbfgs failed to converge (status=1):\n",
            "STOP: TOTAL NO. of ITERATIONS REACHED LIMIT.\n",
            "\n",
            "Increase the number of iterations (max_iter) or scale the data as shown in:\n",
            "    https://scikit-learn.org/stable/modules/preprocessing.html\n",
            "Please also refer to the documentation for alternative solver options:\n",
            "    https://scikit-learn.org/stable/modules/linear_model.html#logistic-regression\n",
            "  extra_warning_msg=_LOGISTIC_SOLVER_CONVERGENCE_MSG)\n"
          ]
        },
        {
          "output_type": "execute_result",
          "data": {
            "text/plain": [
              "LogisticRegression(C=1.0, class_weight=None, dual=False, fit_intercept=True,\n",
              "                   intercept_scaling=1, l1_ratio=None, max_iter=100,\n",
              "                   multi_class='auto', n_jobs=None, penalty='l2',\n",
              "                   random_state=None, solver='lbfgs', tol=0.0001, verbose=0,\n",
              "                   warm_start=False)"
            ]
          },
          "metadata": {},
          "execution_count": 113
        }
      ]
    },
    {
      "cell_type": "code",
      "metadata": {
        "id": "oTTW3ihfIDgb"
      },
      "source": [
        "y_lr_train_pred = lr.predict(X_train)\n",
        "y_lr_test_pred = lr.predict(X_test)"
      ],
      "execution_count": 114,
      "outputs": []
    },
    {
      "cell_type": "markdown",
      "metadata": {
        "id": "iqwNVmOIqV24"
      },
      "source": [
        "*Model performance*"
      ]
    },
    {
      "cell_type": "markdown",
      "metadata": {
        "id": "RILoBJP5zx2F"
      },
      "source": [
        "- Evaluating Regression Models:\n"
      ]
    },
    {
      "cell_type": "markdown",
      "metadata": {
        "id": "BlileiRD0Bi0"
      },
      "source": [
        "1. R-Squared"
      ]
    },
    {
      "cell_type": "code",
      "metadata": {
        "id": "EjN2UYsL0PvG"
      },
      "source": [
        "lr_train_r2 = r2_score(y_train, y_lr_train_pred)\n",
        "lr_test_r2 = r2_score(y_test, y_lr_test_pred)"
      ],
      "execution_count": 115,
      "outputs": []
    },
    {
      "cell_type": "markdown",
      "metadata": {
        "id": "MoqLpopK0c2s"
      },
      "source": [
        "2. Mean Squared Error"
      ]
    },
    {
      "cell_type": "code",
      "metadata": {
        "id": "oUgdXNGZJGd4"
      },
      "source": [
        "lr_train_mse = mean_squared_error(y_train, y_lr_train_pred)\n",
        "lr_test_mse = mean_squared_error(y_test, y_lr_test_pred)"
      ],
      "execution_count": 116,
      "outputs": []
    },
    {
      "cell_type": "code",
      "metadata": {
        "id": "vwpHVKREIDaF",
        "colab": {
          "base_uri": "https://localhost:8080/"
        },
        "outputId": "9a50158a-c3d5-4022-96e2-b127e238cd9f"
      },
      "source": [
        "print(lr_train_mse)"
      ],
      "execution_count": 117,
      "outputs": [
        {
          "output_type": "stream",
          "name": "stdout",
          "text": [
            "0.1446280991735537\n"
          ]
        }
      ]
    },
    {
      "cell_type": "markdown",
      "metadata": {
        "id": "mYJw55mf4muN"
      },
      "source": [
        "3. Predicting Data"
      ]
    },
    {
      "cell_type": "code",
      "metadata": {
        "id": "PUr-W8HSIDQW",
        "colab": {
          "base_uri": "https://localhost:8080/"
        },
        "outputId": "62ce1034-7c00-4339-c64d-0fa3745194c6"
      },
      "source": [
        "y_pred = lr.predict(X_test)\n",
        "print(y_pred)"
      ],
      "execution_count": 118,
      "outputs": [
        {
          "output_type": "stream",
          "name": "stdout",
          "text": [
            "[0 1 1 0 1 1 1 0 0 1 1 0 1 0 1 1 1 0 0 0 1 0 0 1 1 1 1 1 0 1 0 0 0 0 1 0 1\n",
            " 1 1 1 1 1 1 1 1 0 1 1 0 0 0 0 1 1 0 0 0 1 0 0 0]\n"
          ]
        }
      ]
    },
    {
      "cell_type": "code",
      "metadata": {
        "id": "jkcCMR1YIDU9"
      },
      "source": [
        "lr_results = pd.DataFrame(['Logistic regression',lr_train_mse, lr_train_r2, lr_test_mse, lr_test_r2]).transpose()\n",
        "lr_results.columns = ['Method','Training MSE','Training R2','Test MSE','Test R2']"
      ],
      "execution_count": 119,
      "outputs": []
    },
    {
      "cell_type": "markdown",
      "metadata": {
        "id": "uxrDZANA5jlt"
      },
      "source": [
        "4. Test Accuracy\n",
        "\n",
        "\n"
      ]
    },
    {
      "cell_type": "code",
      "metadata": {
        "colab": {
          "base_uri": "https://localhost:8080/"
        },
        "id": "Rzji-RED5F5p",
        "outputId": "744b8449-cf73-4680-f4ff-4836ff4827bd"
      },
      "source": [
        "print('Accuracy of logistic regression classifier on test set: {:.2f}%'.format(lr.score(X_test, y_test)*100.0))"
      ],
      "execution_count": 120,
      "outputs": [
        {
          "output_type": "stream",
          "name": "stdout",
          "text": [
            "Accuracy of logistic regression classifier on test set: 88.52%\n"
          ]
        }
      ]
    },
    {
      "cell_type": "markdown",
      "metadata": {
        "id": "1TU1kjj-6tl1"
      },
      "source": [
        "5. Confusion Matrix"
      ]
    },
    {
      "cell_type": "code",
      "metadata": {
        "id": "P-wTLDCmIDL4",
        "colab": {
          "base_uri": "https://localhost:8080/"
        },
        "outputId": "9c25fd4d-982e-4ace-fa6a-17196cc51ce5"
      },
      "source": [
        "confusion_matrix = confusion_matrix(y_test, y_pred)\n",
        "print(confusion_matrix)"
      ],
      "execution_count": 121,
      "outputs": [
        {
          "output_type": "stream",
          "name": "stdout",
          "text": [
            "[[25  4]\n",
            " [ 3 29]]\n"
          ]
        }
      ]
    },
    {
      "cell_type": "markdown",
      "metadata": {
        "id": "dIZtGQDv_fHD"
      },
      "source": [
        "6. Roc Curve\n",
        "\n"
      ]
    },
    {
      "cell_type": "code",
      "metadata": {
        "colab": {
          "base_uri": "https://localhost:8080/",
          "height": 279
        },
        "id": "y1Vhnvkv8Tsq",
        "outputId": "c4ec2c56-beaa-45a3-e23d-ce333e76d98a"
      },
      "source": [
        "lr_roc_auc = roc_auc_score(y_test, lr.predict(X_test))\n",
        "fpr, tpr, thresholds = roc_curve(y_test, lr.predict_proba(X_test)[:,1])\n",
        "plt.figure()\n",
        "plt.plot(fpr, tpr, label='Logistic Regression (area = %0.2f)' % lr_roc_auc)\n",
        "plt.plot([0, 1], [0, 1],'r--')\n",
        "plt.xlim([0.0, 1.0])\n",
        "plt.ylim([0.0, 1.05])\n",
        "plt.xlabel('False Positive Rate')\n",
        "plt.ylabel('True Positive Rate')\n",
        "plt.legend(loc=\"lower right\")\n",
        "plt.savefig('LR_ROC')\n",
        "plt.show()"
      ],
      "execution_count": 122,
      "outputs": [
        {
          "output_type": "display_data",
          "data": {
            "image/png": "[encoded data removed]",
            "text/plain": [
              "<Figure size 432x288 with 1 Axes>"
            ]
          },
          "metadata": {
            "needs_background": "light"
          }
        }
      ]
    }
  ]
}